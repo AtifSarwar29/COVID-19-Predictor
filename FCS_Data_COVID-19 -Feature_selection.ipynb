{
 "cells": [
  {
   "cell_type": "markdown",
   "id": "9f60e25d-f433-4e1e-82fc-f188ffb89d42",
   "metadata": {},
   "source": [
    "Import Data"
   ]
  },
  {
   "cell_type": "code",
   "execution_count": 1,
   "id": "4195260f-3a1c-4ff6-8176-6ded8243d25a",
   "metadata": {},
   "outputs": [],
   "source": [
    "import pandas as pd\n",
    "import numpy as np\n",
    "import os\n",
    "import FlowCal\n",
    "from sklearn.model_selection import train_test_split\n",
    "from sklearn.ensemble import RandomForestClassifier\n",
    "from sklearn.metrics import accuracy_score, classification_report\n",
    "\n",
    "# Load the label data from \"EU_label.xlsx\"\n",
    "labels_df = pd.read_excel(\"EU_label.xlsx\")\n",
    "\n",
    "# Assuming the label data has a column \"Patient_ID\" for patient IDs and a column \"Label\" for labels\n",
    "labels_dict = dict(zip(labels_df['file_flow_id'], labels_df['label']))\n",
    "\n",
    "# Load the marker-channel mapping data from \"EU_marker_channel_mapping.xlsx\"\n",
    "marker_mapping_df = pd.read_excel(\"EU_marker_channel_mapping.xlsx\")\n",
    "\n",
    "# Filter for channels with \"use\" = 1\n",
    "marker_channels = marker_mapping_df[marker_mapping_df['use'] == 1]['PxN(channel)'].tolist()"
   ]
  },
  {
   "cell_type": "code",
   "execution_count": 2,
   "id": "22eea8f1-2d38-4f23-864d-5c565999497f",
   "metadata": {},
   "outputs": [],
   "source": [
    "# Create lists to store feature vectors and labels\n",
    "feature_vectors = []\n",
    "labels = []\n",
    "\n",
    "# Loop through sub-folders and FCS files\n",
    "main_folder = \"/Users/atifsarwar/Downloads/raw_fcs\"  \n",
    "for sub_folder in os.listdir(main_folder):\n",
    "    sub_folder_path = os.path.join(main_folder, sub_folder)\n",
    "    if os.path.isdir(sub_folder_path):\n",
    "        patient_id = sub_folder  # Assuming the sub-folder name is the patient ID\n",
    "        if patient_id in labels_dict:\n",
    "            for fcs_file in os.listdir(sub_folder_path):\n",
    "                if fcs_file.endswith(\".fcs\"):\n",
    "                    fcs_file_path = os.path.join(sub_folder_path, fcs_file)\n",
    "                    # Load and preprocess the FCS file for the patient\n",
    "                    fcs_data = FlowCal.io.FCSData(fcs_file_path)\n",
    "                    \n",
    "                    # Extract data from specific marker channels based on your marker_channels list\n",
    "                    features = fcs_data[:, marker_channels]\n",
    "                    \n",
    "                    if features is not None:\n",
    "                        feature_vectors.append(features)\n",
    "                        labels.append(labels_dict[patient_id])"
   ]
  },
  {
   "cell_type": "markdown",
   "id": "4895d27e-214d-403c-87d0-8aac459a37cd",
   "metadata": {},
   "source": [
    "Data Preprocessing"
   ]
  },
  {
   "cell_type": "code",
   "execution_count": 3,
   "id": "8ddcc87b-8621-40a9-9c9c-508f577b0e6f",
   "metadata": {},
   "outputs": [
    {
     "name": "stdout",
     "output_type": "stream",
     "text": [
      "Values: Data_shape= (5052720, 31), lable_shape = (5052720,)\n"
     ]
    }
   ],
   "source": [
    "# Convert FCSData objects to NumPy arrays\n",
    "arrays = [fcs_data.view(np.ndarray) for fcs_data in feature_vectors]\n",
    "# Initialize empty lists for data and labels\n",
    "data = []\n",
    "labels_1 = []\n",
    "\n",
    "# Iterate through the list of patient data and labels\n",
    "for patient_data, label in zip(arrays, labels):\n",
    "    # Iterate through the patient's data\n",
    "    for row in patient_data:\n",
    "        # Extend the data list with the row and the labels list with the corresponding label\n",
    "        data.append(row)\n",
    "        labels_1.append(label)\n",
    "\n",
    "print(f\"Values: Data_shape= {np.shape(data)}, lable_shape = {np.shape(labels_1)}\")"
   ]
  },
  {
   "cell_type": "markdown",
   "id": "230db550-de9c-4360-9301-c8d96697ae17",
   "metadata": {},
   "source": [
    "Check missing Data"
   ]
  },
  {
   "cell_type": "code",
   "execution_count": 4,
   "id": "eed15df1-c44c-4935-b091-0b73b4298bda",
   "metadata": {},
   "outputs": [
    {
     "name": "stdout",
     "output_type": "stream",
     "text": [
      "Missing Values:\n",
      "[]\n",
      "Number of Missing Values: 0\n"
     ]
    }
   ],
   "source": [
    "data_array = np.array(data)\n",
    "missing_data_indices = np.isnan(data_array)\n",
    "\n",
    "# Find the indices of missing data\n",
    "missing_data_indices = np.isnan(data_array)\n",
    "\n",
    "# Show the missing values\n",
    "missing_values = data_array[missing_data_indices]\n",
    "\n",
    "# Count the missing values\n",
    "count_missing = np.sum(missing_data_indices)\n",
    "\n",
    "print(\"Missing Values:\")\n",
    "print(missing_values)\n",
    "print(\"Number of Missing Values:\", count_missing)"
   ]
  },
  {
   "cell_type": "markdown",
   "id": "9f93ca24-caf6-4116-943d-15ab5c8b6038",
   "metadata": {},
   "source": [
    "Mapping labels"
   ]
  },
  {
   "cell_type": "code",
   "execution_count": 5,
   "id": "deffcf75-7046-403a-9911-86961065fd89",
   "metadata": {},
   "outputs": [
    {
     "name": "stdout",
     "output_type": "stream",
     "text": [
      "{'Healthy': 0, 'Sick': 1}\n"
     ]
    }
   ],
   "source": [
    "from sklearn.preprocessing import LabelEncoder\n",
    "\n",
    "# Assuming y contains non-numeric class labels like 'Healthy' and 'Sick'\n",
    "label_encoder = LabelEncoder()\n",
    "y_encoded = label_encoder.fit_transform(labels_1)\n",
    "\n",
    "# Get the mapping from class labels to numeric values\n",
    "label_mapping = dict(zip(label_encoder.classes_, label_encoder.transform(label_encoder.classes_)))\n",
    "\n",
    "# Print the mapping\n",
    "print(label_mapping)\n",
    "# Output: {'Healthy': 0, 'Sick': 1}\n"
   ]
  },
  {
   "cell_type": "markdown",
   "id": "0b7d4736-2b30-42d4-93c3-d1f189979f9d",
   "metadata": {},
   "source": [
    "ML Algorithm"
   ]
  },
  {
   "cell_type": "code",
   "execution_count": 7,
   "id": "43ba7afb-b02b-459b-b70a-f9111a4cc0f9",
   "metadata": {},
   "outputs": [
    {
     "name": "stdout",
     "output_type": "stream",
     "text": [
      "Selected Feature Indices: [ 8 14 22  6 26  3 15 13 27 23  0 20  9 11 10  7 29 19 18  4]\n"
     ]
    }
   ],
   "source": [
    "import numpy as np\n",
    "import xgboost as xgb\n",
    "\n",
    "# Assuming X is your feature matrix and y is your target variable\n",
    "# X should be a 2D array where rows are samples and columns are features\n",
    "# y should be a 1D array or list of target labels\n",
    "\n",
    "# Create an XGBoost classifier\n",
    "model = xgb.XGBClassifier()\n",
    "\n",
    "# Fit the XGBoost model to your data\n",
    "model.fit(data_array, y_encoded)\n",
    "\n",
    "# Get feature importances\n",
    "feature_importances = model.feature_importances_\n",
    "\n",
    "# Sort feature importances in descending order\n",
    "sorted_feature_importances = np.argsort(feature_importances)[::-1]\n",
    "\n",
    "# Select the top k features (e.g., top 5 features)\n",
    "k = 20\n",
    "selected_feature_indices = sorted_feature_importances[:k]\n",
    "\n",
    "print(\"Selected Feature Indices:\", selected_feature_indices)\n"
   ]
  },
  {
   "cell_type": "code",
   "execution_count": 8,
   "id": "4cfff3ae-b54a-4fe5-b680-eeb827437b60",
   "metadata": {},
   "outputs": [],
   "source": [
    "# Extract the selected features from X\n",
    "X = data_array[:, selected_feature_indices]"
   ]
  },
  {
   "cell_type": "code",
   "execution_count": 9,
   "id": "731e848d-fe7a-44af-8ef9-5905dac864c4",
   "metadata": {},
   "outputs": [
    {
     "name": "stdout",
     "output_type": "stream",
     "text": [
      "Accuracy: 0.8394567678398961\n",
      "Classification Report:\n",
      "              precision    recall  f1-score   support\n",
      "\n",
      "           0       0.81      0.67      0.73    331142\n",
      "           1       0.85      0.92      0.89    679402\n",
      "\n",
      "    accuracy                           0.84   1010544\n",
      "   macro avg       0.83      0.79      0.81   1010544\n",
      "weighted avg       0.84      0.84      0.83   1010544\n",
      "\n"
     ]
    }
   ],
   "source": [
    "# Split the data into training and testing sets\n",
    "X_train, X_test, y_train, y_test = train_test_split(X, y_encoded, test_size=0.2, random_state=42)\n",
    "\n",
    "# Choose and train a machine learning model (Random Forest in this example)\n",
    "model = RandomForestClassifier()\n",
    "model.fit(X_train, y_train)\n",
    "\n",
    "# Make predictions on the test set\n",
    "y_pred = model.predict(X_test)\n",
    "\n",
    "# Evaluate the model\n",
    "accuracy = accuracy_score(y_test, y_pred)\n",
    "report = classification_report(y_test, y_pred)\n",
    "\n",
    "print(f\"Accuracy: {accuracy}\")\n",
    "print(f\"Classification Report:\\n{report}\")"
   ]
  },
  {
   "cell_type": "code",
   "execution_count": 10,
   "id": "7b7683be-767c-4399-acc8-71a63a1ab40b",
   "metadata": {},
   "outputs": [
    {
     "name": "stdout",
     "output_type": "stream",
     "text": [
      "Accuracy: 0.8332343767317405\n",
      "Classification Report:\n",
      "               precision    recall  f1-score   support\n",
      "\n",
      "           0       0.79      0.68      0.73    331142\n",
      "           1       0.85      0.91      0.88    679402\n",
      "\n",
      "    accuracy                           0.83   1010544\n",
      "   macro avg       0.82      0.79      0.80   1010544\n",
      "weighted avg       0.83      0.83      0.83   1010544\n",
      "\n"
     ]
    }
   ],
   "source": [
    "\n",
    "# Create an XGBoost classifier\n",
    "model = xgb.XGBClassifier()\n",
    "\n",
    "# Train the model on the training data\n",
    "model.fit(X_train, y_train)\n",
    "\n",
    "#Prediction \n",
    "y_pred = model.predict(X_test)\n",
    "\n",
    "# For classification problems\n",
    "accuracy = accuracy_score(y_test, y_pred)\n",
    "report = classification_report(y_test, y_pred)\n",
    "\n",
    "print(\"Accuracy:\", accuracy)\n",
    "print(\"Classification Report:\\n\", report)"
   ]
  },
  {
   "cell_type": "code",
   "execution_count": null,
   "id": "acb00d8a-4eb4-4258-b9b3-e031e5c269ef",
   "metadata": {},
   "outputs": [],
   "source": []
  }
 ],
 "metadata": {
  "kernelspec": {
   "display_name": "Python 3 (ipykernel)",
   "language": "python",
   "name": "python3"
  },
  "language_info": {
   "codemirror_mode": {
    "name": "ipython",
    "version": 3
   },
   "file_extension": ".py",
   "mimetype": "text/x-python",
   "name": "python",
   "nbconvert_exporter": "python",
   "pygments_lexer": "ipython3",
   "version": "3.9.6"
  }
 },
 "nbformat": 4,
 "nbformat_minor": 5
}
