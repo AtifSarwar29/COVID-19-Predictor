{
 "cells": [
  {
   "cell_type": "code",
   "execution_count": 1,
   "id": "4195260f-3a1c-4ff6-8176-6ded8243d25a",
   "metadata": {},
   "outputs": [],
   "source": [
    "import pandas as pd\n",
    "import numpy as np\n",
    "import os\n",
    "import FlowCal\n",
    "from sklearn.model_selection import train_test_split\n",
    "from sklearn.ensemble import RandomForestClassifier\n",
    "from sklearn.metrics import accuracy_score, classification_report\n",
    "\n",
    "# Load the label data from \"EU_label.xlsx\"\n",
    "labels_df = pd.read_excel(\"EU_label.xlsx\")\n",
    "\n",
    "# Assuming the label data has a column \"Patient_ID\" for patient IDs and a column \"Label\" for labelss\n",
    "labels_dict = dict(zip(labels_df['file_flow_id'], labels_df['label']))\n",
    "\n",
    "# Load the marker-channel mapping data from \"EU_marker_channel_mapping.xlsx\"\n",
    "marker_mapping_df = pd.read_excel(\"EU_marker_channel_mapping.xlsx\")\n",
    "\n",
    "# Filter for channels with \"use\" = 1\n",
    "marker_channels = marker_mapping_df[marker_mapping_df['use'] == 1]['PxN(channel)'].tolist()"
   ]
  },
  {
   "cell_type": "code",
   "execution_count": 2,
   "id": "22eea8f1-2d38-4f23-864d-5c565999497f",
   "metadata": {},
   "outputs": [],
   "source": [
    "# Create lists to store feature vectors and labels\n",
    "feature_vectors = []\n",
    "labels = []\n",
    "\n",
    "# Loop through sub-folders and FCS files\n",
    "main_folder = \"/Users/atifsarwar/Downloads/raw_fcs\"  \n",
    "for sub_folder in os.listdir(main_folder):\n",
    "    sub_folder_path = os.path.join(main_folder, sub_folder)\n",
    "    if os.path.isdir(sub_folder_path):\n",
    "        patient_id = sub_folder  # Assuming the sub-folder name is the patient ID\n",
    "        if patient_id in labels_dict:\n",
    "            for fcs_file in os.listdir(sub_folder_path):\n",
    "                if fcs_file.endswith(\".fcs\"):\n",
    "                    fcs_file_path = os.path.join(sub_folder_path, fcs_file)\n",
    "                    # Load and preprocess the FCS file for the patient\n",
    "                    fcs_data = FlowCal.io.FCSData(fcs_file_path)\n",
    "                    \n",
    "                    # Extract data from specific marker channels based on your marker_channels list\n",
    "                    features = fcs_data[:, marker_channels]\n",
    "                    \n",
    "                    if features is not None:\n",
    "                        feature_vectors.append(features)\n",
    "                        labels.append(labels_dict[patient_id])"
   ]
  },
  {
   "cell_type": "code",
   "execution_count": 3,
   "id": "8ddcc87b-8621-40a9-9c9c-508f577b0e6f",
   "metadata": {},
   "outputs": [
    {
     "name": "stdout",
     "output_type": "stream",
     "text": [
      "Values: Data_shape= (5052720, 31), lable_shape = (5052720,)\n"
     ]
    }
   ],
   "source": [
    "# Convert FCSData objects to NumPy arrays\n",
    "arrays = [fcs_data.view(np.ndarray) for fcs_data in feature_vectors]\n",
    "# Initialize empty lists for data and labels\n",
    "data = []\n",
    "labels_1 = []\n",
    "\n",
    "# Iterate through the list of patient data and labels\n",
    "for patient_data, label in zip(arrays, labels):\n",
    "    # Iterate through the patient's data\n",
    "    for row in patient_data:\n",
    "        # Extend the data list with the row and the labels list with the corresponding label\n",
    "        data.append(row)\n",
    "        labels_1.append(label)\n",
    "\n",
    "print(f\"Values: Data_shape= {np.shape(data)}, lable_shape = {np.shape(labels_1)}\")"
   ]
  },
  {
   "cell_type": "code",
   "execution_count": 4,
   "id": "731e848d-fe7a-44af-8ef9-5905dac864c4",
   "metadata": {},
   "outputs": [
    {
     "name": "stdout",
     "output_type": "stream",
     "text": [
      "Accuracy: 0.8467983581120664\n",
      "Classification Report:\n",
      "              precision    recall  f1-score   support\n",
      "\n",
      "     Healthy       0.83      0.67      0.74    331142\n",
      "        Sick       0.85      0.93      0.89    679402\n",
      "\n",
      "    accuracy                           0.85   1010544\n",
      "   macro avg       0.84      0.80      0.82   1010544\n",
      "weighted avg       0.85      0.85      0.84   1010544\n",
      "\n"
     ]
    }
   ],
   "source": [
    "# Split the data into training and testing sets\n",
    "X_train, X_test, y_train, y_test = train_test_split(data, labels_1, test_size=0.2, random_state=42)\n",
    "\n",
    "# Choose and train a machine learning model (Random Forest in this example)\n",
    "model = RandomForestClassifier()\n",
    "model.fit(X_train, y_train)\n",
    "\n",
    "# Make predictions on the test set\n",
    "y_pred = model.predict(X_test)\n",
    "\n",
    "# Evaluate the model\n",
    "accuracy = accuracy_score(y_test, y_pred)\n",
    "report = classification_report(y_test, y_pred)\n",
    "\n",
    "print(f\"Accuracy: {accuracy}\")\n",
    "print(f\"Classification Report:\\n{report}\")"
   ]
  }
 ],
 "metadata": {
  "kernelspec": {
   "display_name": "Python 3 (ipykernel)",
   "language": "python",
   "name": "python3"
  },
  "language_info": {
   "codemirror_mode": {
    "name": "ipython",
    "version": 3
   },
   "file_extension": ".py",
   "mimetype": "text/x-python",
   "name": "python",
   "nbconvert_exporter": "python",
   "pygments_lexer": "ipython3",
   "version": "3.9.6"
  }
 },
 "nbformat": 4,
 "nbformat_minor": 5
}
